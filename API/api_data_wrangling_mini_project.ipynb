{
 "cells": [
  {
   "cell_type": "markdown",
   "metadata": {},
   "source": [
    "This exercise will require you to pull some data from the Qunadl API. Qaundl is currently the most widely used aggregator of financial market data."
   ]
  },
  {
   "cell_type": "markdown",
   "metadata": {},
   "source": [
    "As a first step, you will need to register a free account on the http://www.quandl.com website."
   ]
  },
  {
   "cell_type": "markdown",
   "metadata": {},
   "source": [
    "After you register, you will be provided with a unique API key, that you should store:"
   ]
  },
  {
   "cell_type": "code",
   "execution_count": 2,
   "metadata": {},
   "outputs": [],
   "source": [
    "# Store the API key as a string - according to PEP8, constants are always named in all upper case\n",
    "API_KEY = 'REMOVED'"
   ]
  },
  {
   "cell_type": "markdown",
   "metadata": {},
   "source": [
    "Qaundl has a large number of data sources, but, unfortunately, most of them require a Premium subscription. Still, there are also a good number of free datasets."
   ]
  },
  {
   "cell_type": "markdown",
   "metadata": {},
   "source": [
    "For this mini project, we will focus on equities data from the Frankfurt Stock Exhange (FSE), which is available for free. We'll try and analyze the stock prices of a company called Carl Zeiss Meditec, which manufactures tools for eye examinations, as well as medical lasers for laser eye surgery: https://www.zeiss.com/meditec/int/home.html. The company is listed under the stock ticker AFX_X."
   ]
  },
  {
   "cell_type": "markdown",
   "metadata": {},
   "source": [
    "You can find the detailed Quandl API instructions here: https://docs.quandl.com/docs/time-series"
   ]
  },
  {
   "cell_type": "markdown",
   "metadata": {},
   "source": [
    "While there is a dedicated Python package for connecting to the Quandl API, we would prefer that you use the *requests* package, which can be easily downloaded using *pip* or *conda*. You can find the documentation for the package here: http://docs.python-requests.org/en/master/ "
   ]
  },
  {
   "cell_type": "markdown",
   "metadata": {},
   "source": [
    "Finally, apart from the *requests* package, you are encouraged to not use any third party Python packages, such as *pandas*, and instead focus on what's available in the Python Standard Library (the *collections* module might come in handy: https://pymotw.com/3/collections/ ).\n",
    "Also, since you won't have access to DataFrames, you are encouraged to us Python's native data structures - preferably dictionaries, though some questions can also be answered using lists.\n",
    "You can read more on these data structures here: https://docs.python.org/3/tutorial/datastructures.html"
   ]
  },
  {
   "cell_type": "markdown",
   "metadata": {},
   "source": [
    "Keep in mind that the JSON responses you will be getting from the API map almost one-to-one to Python's dictionaries. Unfortunately, they can be very nested, so make sure you read up on indexing dictionaries in the documentation provided above."
   ]
  },
  {
   "cell_type": "code",
   "execution_count": 3,
   "metadata": {},
   "outputs": [],
   "source": [
    "# First, import the relevant modules\n",
    "import requests\n",
    "import collections"
   ]
  },
  {
   "cell_type": "code",
   "execution_count": 4,
   "metadata": {},
   "outputs": [],
   "source": [
    "# Now, call the Quandl API and pull out a small sample of the data (only one day) to get a glimpse\n",
    "# into the JSON structure that will be returned\n",
    "\n",
    "def request_FSE_data(API_KEY, start, end):\n",
    "\n",
    "    # url for FSE, AFX_X\n",
    "    url = 'https://www.quandl.com/api/v3/datasets/FSE/AFX_X.json'\n",
    "\n",
    "    # parameters for request\n",
    "    parameters = dict(key=API_KEY, start_date=start, end_date=end)\n",
    "\n",
    "    # GET Request\n",
    "    res = requests.get(url, params=parameters)\n",
    "\n",
    "    # return json as dictionary (going one level in since at top level there is only one key/value pair)\n",
    "    return res.json()['dataset']\n",
    "\n",
    "\n",
    "AFX_X_test = request_FSE_data(API_KEY, start='2017-01-01', end='2017-01-02')"
   ]
  },
  {
   "cell_type": "code",
   "execution_count": 5,
   "metadata": {},
   "outputs": [
    {
     "data": {
      "text/plain": [
       "dict_keys(['id', 'dataset_code', 'database_code', 'name', 'description', 'refreshed_at', 'newest_available_date', 'oldest_available_date', 'column_names', 'frequency', 'type', 'premium', 'limit', 'transform', 'column_index', 'start_date', 'end_date', 'data', 'collapse', 'order', 'database_id'])"
      ]
     },
     "execution_count": 5,
     "metadata": {},
     "output_type": "execute_result"
    }
   ],
   "source": [
    "# Inspect the JSON structure of the object you created, and take note of how nested it is,\n",
    "# as well as the overall structure\n",
    "AFX_X_test.keys()"
   ]
  },
  {
   "cell_type": "code",
   "execution_count": 6,
   "metadata": {},
   "outputs": [
    {
     "data": {
      "text/plain": [
       "['Date',\n",
       " 'Open',\n",
       " 'High',\n",
       " 'Low',\n",
       " 'Close',\n",
       " 'Change',\n",
       " 'Traded Volume',\n",
       " 'Turnover',\n",
       " 'Last Price of the Day',\n",
       " 'Daily Traded Units',\n",
       " 'Daily Turnover']"
      ]
     },
     "execution_count": 6,
     "metadata": {},
     "output_type": "execute_result"
    }
   ],
   "source": [
    "AFX_X_test['column_names']"
   ]
  },
  {
   "cell_type": "code",
   "execution_count": 7,
   "metadata": {},
   "outputs": [
    {
     "data": {
      "text/plain": [
       "'2017-01-02'"
      ]
     },
     "execution_count": 7,
     "metadata": {},
     "output_type": "execute_result"
    }
   ],
   "source": [
    "AFX_X_test['data'][0][0]"
   ]
  },
  {
   "cell_type": "markdown",
   "metadata": {},
   "source": [
    "These are your tasks for this mini project:\n",
    "\n",
    "1. Collect data from the Franfurt Stock Exchange, for the ticker AFX_X, for the whole year 2017 (keep in mind that the date format is YYYY-MM-DD).\n",
    "2. Convert the returned JSON object into a Python dictionary.\n",
    "3. Calculate what the highest and lowest opening prices were for the stock in this period.\n",
    "4. What was the largest change in any one day (based on High and Low price)?\n",
    "5. What was the largest change between any two days (based on Closing Price)?\n",
    "6. What was the average daily trading volume during this year?\n",
    "7. (Optional) What was the median trading volume during this year. (Note: you may need to implement your own function for calculating the median.)"
   ]
  },
  {
   "cell_type": "markdown",
   "metadata": {},
   "source": [
    "# TASK SOLUTIONS\n",
    "\n",
    "1. Collect data from the Franfurt Stock Exchange, for the ticker AFX_X, for the whole year 2017\n",
    "2. Convert the returned JSON object into a Python dictionary."
   ]
  },
  {
   "cell_type": "code",
   "execution_count": 8,
   "metadata": {},
   "outputs": [
    {
     "data": {
      "text/plain": [
       "dict"
      ]
     },
     "execution_count": 8,
     "metadata": {},
     "output_type": "execute_result"
    }
   ],
   "source": [
    "AFX_X_2017 = request_FSE_data(API_KEY, start='2017-01-01', end='2017-12-31')\n",
    "type(AFX_X_2017)"
   ]
  },
  {
   "cell_type": "markdown",
   "metadata": {},
   "source": [
    "3. Calculate what the highest and lowest opening prices were for the stock in this period."
   ]
  },
  {
   "cell_type": "code",
   "execution_count": 9,
   "metadata": {},
   "outputs": [],
   "source": [
    "# define function for converting data for a given column into a list (used throughout)\n",
    "def get_col_data(col_name):\n",
    "    column_names = AFX_X_2017['column_names']\n",
    "    index = column_names.index(col_name)\n",
    "    col_data = []\n",
    "    \n",
    "    for record in AFX_X_2017['data']:\n",
    "        col_data.append(record[index])\n",
    "        \n",
    "    return col_data"
   ]
  },
  {
   "cell_type": "code",
   "execution_count": 10,
   "metadata": {},
   "outputs": [],
   "source": [
    "#define function for removing Nones from a list (used throughout)\n",
    "\n",
    "def remove_nones(data_list):\n",
    "    return [n for n in data_list if n]"
   ]
  },
  {
   "cell_type": "code",
   "execution_count": 11,
   "metadata": {},
   "outputs": [
    {
     "name": "stdout",
     "output_type": "stream",
     "text": [
      "Maximum opening price: $53.11\n",
      "Minimum opening price: $34.0\n"
     ]
    }
   ],
   "source": [
    "#get opening prices\n",
    "opening_prices = get_col_data('Open')\n",
    "\n",
    "#remove Nones\n",
    "opening_prices = remove_nones(opening_prices)\n",
    "\n",
    "#calculate min and max\n",
    "max_opening = max(opening_prices)\n",
    "min_opening = min(opening_prices)\n",
    "\n",
    "print(f'Maximum opening price: ${max_opening}')\n",
    "print(f'Minimum opening price: ${min_opening}')"
   ]
  },
  {
   "cell_type": "markdown",
   "metadata": {},
   "source": [
    "4. What was the largest change in any one day (based on High and Low price)?"
   ]
  },
  {
   "cell_type": "code",
   "execution_count": 12,
   "metadata": {},
   "outputs": [
    {
     "name": "stdout",
     "output_type": "stream",
     "text": [
      "The largest change in any one day was: $2.81\n"
     ]
    }
   ],
   "source": [
    "#get high and low prices\n",
    "high_prices = get_col_data('High')\n",
    "low_prices = get_col_data('Low')\n",
    "\n",
    "#initialize empty list to store price deltas\n",
    "price_deltas = []\n",
    "\n",
    "#loop through prices and calculate delta for each day\n",
    "for index in range(len(high_prices)):\n",
    "    #error handling to skip Nones\n",
    "    try:\n",
    "        delta = abs(high_prices[index] - low_prices[index])\n",
    "    except:\n",
    "        delta = 0\n",
    "        \n",
    "    price_deltas.append(delta)\n",
    "\n",
    "#get max delta\n",
    "max_day_change = round(max(price_deltas),2)\n",
    "\n",
    "print(f'The largest change in any one day was: ${max_day_change}')"
   ]
  },
  {
   "cell_type": "markdown",
   "metadata": {},
   "source": [
    "5. What was the largest change between any two days (based on Closing Price)?"
   ]
  },
  {
   "cell_type": "code",
   "execution_count": 13,
   "metadata": {},
   "outputs": [
    {
     "name": "stdout",
     "output_type": "stream",
     "text": [
      "The largest change between any two days was: $2.56\n"
     ]
    }
   ],
   "source": [
    "#get closing prices and remove Nones (assuming that \"between any two days\" also includes across weekends & holidays)\n",
    "closing_prices = get_col_data('Close')\n",
    "closing_prices = remove_nones(closing_prices)\n",
    "\n",
    "#initialize empty list to store closing price deltas\n",
    "closing_price_deltas = []\n",
    "\n",
    "for day in range(1,len(closing_prices)):\n",
    "    delta = abs(closing_prices[day] - closing_prices[day-1])\n",
    "    closing_price_deltas.append(delta)\n",
    "\n",
    "max_2day_change = round(max(closing_price_deltas),2)\n",
    "\n",
    "print(f'The largest change between any two days was: ${max_2day_change}')"
   ]
  },
  {
   "cell_type": "code",
   "execution_count": 14,
   "metadata": {},
   "outputs": [
    {
     "data": {
      "text/plain": [
       "255"
      ]
     },
     "execution_count": 14,
     "metadata": {},
     "output_type": "execute_result"
    }
   ],
   "source": [
    "closing_prices = get_col_data('Close')\n",
    "len(closing_prices)"
   ]
  },
  {
   "cell_type": "markdown",
   "metadata": {},
   "source": [
    "6. What was the average daily trading volume during this year?"
   ]
  },
  {
   "cell_type": "code",
   "execution_count": 15,
   "metadata": {},
   "outputs": [
    {
     "name": "stdout",
     "output_type": "stream",
     "text": [
      "The average (mean) daily trading volume for 2017 was: $89124.34\n"
     ]
    }
   ],
   "source": [
    "#get trading volumes (there are no Nones)\n",
    "trading_volumes = get_col_data('Traded Volume')\n",
    "\n",
    "#calculate mean\n",
    "trading_vol_mean = round(sum(trading_volumes)/len(trading_volumes),2)\n",
    "\n",
    "print(f'The average (mean) daily trading volume for 2017 was: ${trading_vol_mean}')"
   ]
  },
  {
   "cell_type": "markdown",
   "metadata": {},
   "source": [
    "7. (Optional) What was the median trading volume during this year. (Note: you may need to implement your own function for calculating the median.)"
   ]
  },
  {
   "cell_type": "code",
   "execution_count": 16,
   "metadata": {},
   "outputs": [],
   "source": [
    "def get_median(list):\n",
    "    sorted_list = sorted(list)\n",
    "    list_len = len(list)\n",
    "    \n",
    "    if list_len % 2 == 0:\n",
    "        index_low = int(list_len/2 - 0.5)\n",
    "        index_high = int(list_len/2 + 0.5)\n",
    "        median = (sorted_list[index_low]+sorted_list[index_high])/2\n",
    "    else:\n",
    "        median_index = int(list_len/2 - 0.5)\n",
    "        median = sorted_list[median_index]\n",
    "        \n",
    "    return median"
   ]
  },
  {
   "cell_type": "code",
   "execution_count": 17,
   "metadata": {},
   "outputs": [
    {
     "name": "stdout",
     "output_type": "stream",
     "text": [
      "The median daily trading volume for 2017 was: $76286.0\n"
     ]
    }
   ],
   "source": [
    "trading_vol_median = get_median(trading_volumes)\n",
    "print(f'The median daily trading volume for 2017 was: ${trading_vol_median}')"
   ]
  }
 ],
 "metadata": {
  "kernelspec": {
   "display_name": "Python 3",
   "language": "python",
   "name": "python3"
  },
  "language_info": {
   "codemirror_mode": {
    "name": "ipython",
    "version": 3
   },
   "file_extension": ".py",
   "mimetype": "text/x-python",
   "name": "python",
   "nbconvert_exporter": "python",
   "pygments_lexer": "ipython3",
   "version": "3.8.5"
  }
 },
 "nbformat": 4,
 "nbformat_minor": 2
}
