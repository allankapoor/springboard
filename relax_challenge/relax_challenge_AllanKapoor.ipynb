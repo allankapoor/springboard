{
 "cells": [
  {
   "cell_type": "markdown",
   "id": "7299d5ee",
   "metadata": {},
   "source": [
    "# Relax Challenge\n",
    "\n",
    "**Prompt**\n",
    "\n",
    "Defining an \"adopted user\" as a user who has logged into the product on three separate days in at least one seven­day period, identify which factors predict future user adoption.\n",
    "\n",
    "Please send us a brief writeup of your findings (the more concise, the better ­­ no more than one page), along with any summary tables, graphs, code, or queries that can help us understand your approach. Please note any factors you considered or investigation you did, even if they did not pan out. Feel free to identify any further research or data you think would be valuable."
   ]
  },
  {
   "cell_type": "code",
   "execution_count": 232,
   "id": "cd734fc7",
   "metadata": {},
   "outputs": [],
   "source": [
    "# imports\n",
    "import numpy as np\n",
    "import pandas as pd\n",
    "import os\n",
    "import matplotlib.pyplot as plt\n",
    "import seaborn as sns\n",
    "from scipy import stats"
   ]
  },
  {
   "cell_type": "code",
   "execution_count": 270,
   "id": "ce0fc52d",
   "metadata": {},
   "outputs": [],
   "source": [
    "DIR = '/Users/allankapoor/Documents/Springboard/springboard/relax_challenge'\n",
    "engagement = pd.read_csv(os.path.join(DIR, 'takehome_user_engagement.csv'))\n",
    "users = pd.read_csv(os.path.join(DIR, 'takehome_users.csv'), encoding='latin-1')"
   ]
  },
  {
   "cell_type": "code",
   "execution_count": 271,
   "id": "ad5d8d19",
   "metadata": {},
   "outputs": [
    {
     "data": {
      "text/html": [
       "<div>\n",
       "<style scoped>\n",
       "    .dataframe tbody tr th:only-of-type {\n",
       "        vertical-align: middle;\n",
       "    }\n",
       "\n",
       "    .dataframe tbody tr th {\n",
       "        vertical-align: top;\n",
       "    }\n",
       "\n",
       "    .dataframe thead th {\n",
       "        text-align: right;\n",
       "    }\n",
       "</style>\n",
       "<table border=\"1\" class=\"dataframe\">\n",
       "  <thead>\n",
       "    <tr style=\"text-align: right;\">\n",
       "      <th></th>\n",
       "      <th>time_stamp</th>\n",
       "      <th>user_id</th>\n",
       "      <th>visited</th>\n",
       "    </tr>\n",
       "  </thead>\n",
       "  <tbody>\n",
       "    <tr>\n",
       "      <th>0</th>\n",
       "      <td>2014-04-22 03:53:30</td>\n",
       "      <td>1</td>\n",
       "      <td>1</td>\n",
       "    </tr>\n",
       "    <tr>\n",
       "      <th>1</th>\n",
       "      <td>2013-11-15 03:45:04</td>\n",
       "      <td>2</td>\n",
       "      <td>1</td>\n",
       "    </tr>\n",
       "    <tr>\n",
       "      <th>2</th>\n",
       "      <td>2013-11-29 03:45:04</td>\n",
       "      <td>2</td>\n",
       "      <td>1</td>\n",
       "    </tr>\n",
       "    <tr>\n",
       "      <th>3</th>\n",
       "      <td>2013-12-09 03:45:04</td>\n",
       "      <td>2</td>\n",
       "      <td>1</td>\n",
       "    </tr>\n",
       "    <tr>\n",
       "      <th>4</th>\n",
       "      <td>2013-12-25 03:45:04</td>\n",
       "      <td>2</td>\n",
       "      <td>1</td>\n",
       "    </tr>\n",
       "  </tbody>\n",
       "</table>\n",
       "</div>"
      ],
      "text/plain": [
       "            time_stamp  user_id  visited\n",
       "0  2014-04-22 03:53:30        1        1\n",
       "1  2013-11-15 03:45:04        2        1\n",
       "2  2013-11-29 03:45:04        2        1\n",
       "3  2013-12-09 03:45:04        2        1\n",
       "4  2013-12-25 03:45:04        2        1"
      ]
     },
     "execution_count": 271,
     "metadata": {},
     "output_type": "execute_result"
    }
   ],
   "source": [
    "engagement.head(5)"
   ]
  },
  {
   "cell_type": "code",
   "execution_count": 272,
   "id": "3063484b",
   "metadata": {},
   "outputs": [
    {
     "name": "stdout",
     "output_type": "stream",
     "text": [
      "<class 'pandas.core.frame.DataFrame'>\n",
      "RangeIndex: 207917 entries, 0 to 207916\n",
      "Data columns (total 3 columns):\n",
      " #   Column      Non-Null Count   Dtype \n",
      "---  ------      --------------   ----- \n",
      " 0   time_stamp  207917 non-null  object\n",
      " 1   user_id     207917 non-null  int64 \n",
      " 2   visited     207917 non-null  int64 \n",
      "dtypes: int64(2), object(1)\n",
      "memory usage: 4.8+ MB\n"
     ]
    }
   ],
   "source": [
    "engagement.info()"
   ]
  },
  {
   "cell_type": "code",
   "execution_count": 273,
   "id": "c24ff1e4",
   "metadata": {},
   "outputs": [
    {
     "data": {
      "text/plain": [
       "12000"
      ]
     },
     "execution_count": 273,
     "metadata": {},
     "output_type": "execute_result"
    }
   ],
   "source": [
    "engagement.user_id.max()"
   ]
  },
  {
   "cell_type": "code",
   "execution_count": 274,
   "id": "4b0f7faa",
   "metadata": {},
   "outputs": [],
   "source": [
    "#convert time_stamp to datetime\n",
    "engagement['time_stamp'] = pd.to_datetime(engagement['time_stamp'])"
   ]
  },
  {
   "cell_type": "code",
   "execution_count": 275,
   "id": "b2f7bf8e",
   "metadata": {},
   "outputs": [
    {
     "name": "stdout",
     "output_type": "stream",
     "text": [
      "<class 'pandas.core.frame.DataFrame'>\n",
      "RangeIndex: 207917 entries, 0 to 207916\n",
      "Data columns (total 3 columns):\n",
      " #   Column      Non-Null Count   Dtype         \n",
      "---  ------      --------------   -----         \n",
      " 0   time_stamp  207917 non-null  datetime64[ns]\n",
      " 1   user_id     207917 non-null  int64         \n",
      " 2   visited     207917 non-null  int64         \n",
      "dtypes: datetime64[ns](1), int64(2)\n",
      "memory usage: 4.8 MB\n"
     ]
    }
   ],
   "source": [
    "engagement.info()"
   ]
  },
  {
   "cell_type": "code",
   "execution_count": 276,
   "id": "dbfa2d60",
   "metadata": {},
   "outputs": [
    {
     "data": {
      "text/html": [
       "<div>\n",
       "<style scoped>\n",
       "    .dataframe tbody tr th:only-of-type {\n",
       "        vertical-align: middle;\n",
       "    }\n",
       "\n",
       "    .dataframe tbody tr th {\n",
       "        vertical-align: top;\n",
       "    }\n",
       "\n",
       "    .dataframe thead th {\n",
       "        text-align: right;\n",
       "    }\n",
       "</style>\n",
       "<table border=\"1\" class=\"dataframe\">\n",
       "  <thead>\n",
       "    <tr style=\"text-align: right;\">\n",
       "      <th></th>\n",
       "      <th>object_id</th>\n",
       "      <th>creation_time</th>\n",
       "      <th>name</th>\n",
       "      <th>email</th>\n",
       "      <th>creation_source</th>\n",
       "      <th>last_session_creation_time</th>\n",
       "      <th>opted_in_to_mailing_list</th>\n",
       "      <th>enabled_for_marketing_drip</th>\n",
       "      <th>org_id</th>\n",
       "      <th>invited_by_user_id</th>\n",
       "    </tr>\n",
       "  </thead>\n",
       "  <tbody>\n",
       "    <tr>\n",
       "      <th>0</th>\n",
       "      <td>1</td>\n",
       "      <td>2014-04-22 03:53:30</td>\n",
       "      <td>Clausen August</td>\n",
       "      <td>AugustCClausen@yahoo.com</td>\n",
       "      <td>GUEST_INVITE</td>\n",
       "      <td>1.398139e+09</td>\n",
       "      <td>1</td>\n",
       "      <td>0</td>\n",
       "      <td>11</td>\n",
       "      <td>10803.0</td>\n",
       "    </tr>\n",
       "    <tr>\n",
       "      <th>1</th>\n",
       "      <td>2</td>\n",
       "      <td>2013-11-15 03:45:04</td>\n",
       "      <td>Poole Matthew</td>\n",
       "      <td>MatthewPoole@gustr.com</td>\n",
       "      <td>ORG_INVITE</td>\n",
       "      <td>1.396238e+09</td>\n",
       "      <td>0</td>\n",
       "      <td>0</td>\n",
       "      <td>1</td>\n",
       "      <td>316.0</td>\n",
       "    </tr>\n",
       "    <tr>\n",
       "      <th>2</th>\n",
       "      <td>3</td>\n",
       "      <td>2013-03-19 23:14:52</td>\n",
       "      <td>Bottrill Mitchell</td>\n",
       "      <td>MitchellBottrill@gustr.com</td>\n",
       "      <td>ORG_INVITE</td>\n",
       "      <td>1.363735e+09</td>\n",
       "      <td>0</td>\n",
       "      <td>0</td>\n",
       "      <td>94</td>\n",
       "      <td>1525.0</td>\n",
       "    </tr>\n",
       "    <tr>\n",
       "      <th>3</th>\n",
       "      <td>4</td>\n",
       "      <td>2013-05-21 08:09:28</td>\n",
       "      <td>Clausen Nicklas</td>\n",
       "      <td>NicklasSClausen@yahoo.com</td>\n",
       "      <td>GUEST_INVITE</td>\n",
       "      <td>1.369210e+09</td>\n",
       "      <td>0</td>\n",
       "      <td>0</td>\n",
       "      <td>1</td>\n",
       "      <td>5151.0</td>\n",
       "    </tr>\n",
       "    <tr>\n",
       "      <th>4</th>\n",
       "      <td>5</td>\n",
       "      <td>2013-01-17 10:14:20</td>\n",
       "      <td>Raw Grace</td>\n",
       "      <td>GraceRaw@yahoo.com</td>\n",
       "      <td>GUEST_INVITE</td>\n",
       "      <td>1.358850e+09</td>\n",
       "      <td>0</td>\n",
       "      <td>0</td>\n",
       "      <td>193</td>\n",
       "      <td>5240.0</td>\n",
       "    </tr>\n",
       "  </tbody>\n",
       "</table>\n",
       "</div>"
      ],
      "text/plain": [
       "   object_id        creation_time               name  \\\n",
       "0          1  2014-04-22 03:53:30     Clausen August   \n",
       "1          2  2013-11-15 03:45:04      Poole Matthew   \n",
       "2          3  2013-03-19 23:14:52  Bottrill Mitchell   \n",
       "3          4  2013-05-21 08:09:28    Clausen Nicklas   \n",
       "4          5  2013-01-17 10:14:20          Raw Grace   \n",
       "\n",
       "                        email creation_source  last_session_creation_time  \\\n",
       "0    AugustCClausen@yahoo.com    GUEST_INVITE                1.398139e+09   \n",
       "1      MatthewPoole@gustr.com      ORG_INVITE                1.396238e+09   \n",
       "2  MitchellBottrill@gustr.com      ORG_INVITE                1.363735e+09   \n",
       "3   NicklasSClausen@yahoo.com    GUEST_INVITE                1.369210e+09   \n",
       "4          GraceRaw@yahoo.com    GUEST_INVITE                1.358850e+09   \n",
       "\n",
       "   opted_in_to_mailing_list  enabled_for_marketing_drip  org_id  \\\n",
       "0                         1                           0      11   \n",
       "1                         0                           0       1   \n",
       "2                         0                           0      94   \n",
       "3                         0                           0       1   \n",
       "4                         0                           0     193   \n",
       "\n",
       "   invited_by_user_id  \n",
       "0             10803.0  \n",
       "1               316.0  \n",
       "2              1525.0  \n",
       "3              5151.0  \n",
       "4              5240.0  "
      ]
     },
     "execution_count": 276,
     "metadata": {},
     "output_type": "execute_result"
    }
   ],
   "source": [
    "users.head()"
   ]
  },
  {
   "cell_type": "code",
   "execution_count": 278,
   "id": "fa5a7229",
   "metadata": {},
   "outputs": [
    {
     "name": "stdout",
     "output_type": "stream",
     "text": [
      "Signup categories when invited_by_user_id is null: ['SIGNUP' 'PERSONAL_PROJECTS' 'SIGNUP_GOOGLE_AUTH']\n",
      "Signup categories when invited_by_user_id is null: ['GUEST_INVITE' 'ORG_INVITE']\n"
     ]
    }
   ],
   "source": [
    "#confirming that null values in invited_by_user_id are because they weren't invited\n",
    "null_invite_signups = users.loc[users.invited_by_user_id.isnull(),:].creation_source.unique()\n",
    "non_null_invite_signups = users.loc[~users.invited_by_user_id.isnull(),:].creation_source.unique()\n",
    "print(f'Signup categories when invited_by_user_id is null: {null_invite_signups}')\n",
    "print(f'Signup categories when invited_by_user_id is null: {non_null_invite_signups}')"
   ]
  },
  {
   "cell_type": "code",
   "execution_count": 279,
   "id": "05962481",
   "metadata": {},
   "outputs": [],
   "source": [
    "#convert creation_time from string to datetime\n",
    "users['creation_time'] = pd.to_datetime(users['creation_time'])\n",
    "\n",
    "#convert last_session_creation_time from unix to datetime\n",
    "users['last_session_creation_time'] = pd.to_datetime(users['last_session_creation_time'], unit='s', origin='unix')"
   ]
  },
  {
   "cell_type": "code",
   "execution_count": 280,
   "id": "f5274f1b",
   "metadata": {},
   "outputs": [
    {
     "data": {
      "text/html": [
       "<div>\n",
       "<style scoped>\n",
       "    .dataframe tbody tr th:only-of-type {\n",
       "        vertical-align: middle;\n",
       "    }\n",
       "\n",
       "    .dataframe tbody tr th {\n",
       "        vertical-align: top;\n",
       "    }\n",
       "\n",
       "    .dataframe thead th {\n",
       "        text-align: right;\n",
       "    }\n",
       "</style>\n",
       "<table border=\"1\" class=\"dataframe\">\n",
       "  <thead>\n",
       "    <tr style=\"text-align: right;\">\n",
       "      <th></th>\n",
       "      <th>object_id</th>\n",
       "      <th>creation_time</th>\n",
       "      <th>name</th>\n",
       "      <th>email</th>\n",
       "      <th>creation_source</th>\n",
       "      <th>last_session_creation_time</th>\n",
       "      <th>opted_in_to_mailing_list</th>\n",
       "      <th>enabled_for_marketing_drip</th>\n",
       "      <th>org_id</th>\n",
       "      <th>invited_by_user_id</th>\n",
       "    </tr>\n",
       "  </thead>\n",
       "  <tbody>\n",
       "    <tr>\n",
       "      <th>0</th>\n",
       "      <td>1</td>\n",
       "      <td>2014-04-22 03:53:30</td>\n",
       "      <td>Clausen August</td>\n",
       "      <td>AugustCClausen@yahoo.com</td>\n",
       "      <td>GUEST_INVITE</td>\n",
       "      <td>2014-04-22 03:53:30</td>\n",
       "      <td>1</td>\n",
       "      <td>0</td>\n",
       "      <td>11</td>\n",
       "      <td>10803.0</td>\n",
       "    </tr>\n",
       "    <tr>\n",
       "      <th>1</th>\n",
       "      <td>2</td>\n",
       "      <td>2013-11-15 03:45:04</td>\n",
       "      <td>Poole Matthew</td>\n",
       "      <td>MatthewPoole@gustr.com</td>\n",
       "      <td>ORG_INVITE</td>\n",
       "      <td>2014-03-31 03:45:04</td>\n",
       "      <td>0</td>\n",
       "      <td>0</td>\n",
       "      <td>1</td>\n",
       "      <td>316.0</td>\n",
       "    </tr>\n",
       "    <tr>\n",
       "      <th>2</th>\n",
       "      <td>3</td>\n",
       "      <td>2013-03-19 23:14:52</td>\n",
       "      <td>Bottrill Mitchell</td>\n",
       "      <td>MitchellBottrill@gustr.com</td>\n",
       "      <td>ORG_INVITE</td>\n",
       "      <td>2013-03-19 23:14:52</td>\n",
       "      <td>0</td>\n",
       "      <td>0</td>\n",
       "      <td>94</td>\n",
       "      <td>1525.0</td>\n",
       "    </tr>\n",
       "    <tr>\n",
       "      <th>3</th>\n",
       "      <td>4</td>\n",
       "      <td>2013-05-21 08:09:28</td>\n",
       "      <td>Clausen Nicklas</td>\n",
       "      <td>NicklasSClausen@yahoo.com</td>\n",
       "      <td>GUEST_INVITE</td>\n",
       "      <td>2013-05-22 08:09:28</td>\n",
       "      <td>0</td>\n",
       "      <td>0</td>\n",
       "      <td>1</td>\n",
       "      <td>5151.0</td>\n",
       "    </tr>\n",
       "    <tr>\n",
       "      <th>4</th>\n",
       "      <td>5</td>\n",
       "      <td>2013-01-17 10:14:20</td>\n",
       "      <td>Raw Grace</td>\n",
       "      <td>GraceRaw@yahoo.com</td>\n",
       "      <td>GUEST_INVITE</td>\n",
       "      <td>2013-01-22 10:14:20</td>\n",
       "      <td>0</td>\n",
       "      <td>0</td>\n",
       "      <td>193</td>\n",
       "      <td>5240.0</td>\n",
       "    </tr>\n",
       "  </tbody>\n",
       "</table>\n",
       "</div>"
      ],
      "text/plain": [
       "   object_id       creation_time               name  \\\n",
       "0          1 2014-04-22 03:53:30     Clausen August   \n",
       "1          2 2013-11-15 03:45:04      Poole Matthew   \n",
       "2          3 2013-03-19 23:14:52  Bottrill Mitchell   \n",
       "3          4 2013-05-21 08:09:28    Clausen Nicklas   \n",
       "4          5 2013-01-17 10:14:20          Raw Grace   \n",
       "\n",
       "                        email creation_source last_session_creation_time  \\\n",
       "0    AugustCClausen@yahoo.com    GUEST_INVITE        2014-04-22 03:53:30   \n",
       "1      MatthewPoole@gustr.com      ORG_INVITE        2014-03-31 03:45:04   \n",
       "2  MitchellBottrill@gustr.com      ORG_INVITE        2013-03-19 23:14:52   \n",
       "3   NicklasSClausen@yahoo.com    GUEST_INVITE        2013-05-22 08:09:28   \n",
       "4          GraceRaw@yahoo.com    GUEST_INVITE        2013-01-22 10:14:20   \n",
       "\n",
       "   opted_in_to_mailing_list  enabled_for_marketing_drip  org_id  \\\n",
       "0                         1                           0      11   \n",
       "1                         0                           0       1   \n",
       "2                         0                           0      94   \n",
       "3                         0                           0       1   \n",
       "4                         0                           0     193   \n",
       "\n",
       "   invited_by_user_id  \n",
       "0             10803.0  \n",
       "1               316.0  \n",
       "2              1525.0  \n",
       "3              5151.0  \n",
       "4              5240.0  "
      ]
     },
     "execution_count": 280,
     "metadata": {},
     "output_type": "execute_result"
    }
   ],
   "source": [
    "users.head()"
   ]
  },
  {
   "cell_type": "code",
   "execution_count": 353,
   "id": "2189f4a1",
   "metadata": {},
   "outputs": [
    {
     "name": "stdout",
     "output_type": "stream",
     "text": [
      "<class 'pandas.core.frame.DataFrame'>\n",
      "Int64Index: 12000 entries, 0 to 11999\n",
      "Data columns (total 17 columns):\n",
      " #   Column                      Non-Null Count  Dtype         \n",
      "---  ------                      --------------  -----         \n",
      " 0   object_id                   12000 non-null  int64         \n",
      " 1   creation_time               12000 non-null  datetime64[ns]\n",
      " 2   name                        12000 non-null  object        \n",
      " 3   email                       12000 non-null  object        \n",
      " 4   creation_source             12000 non-null  object        \n",
      " 5   last_session_creation_time  8823 non-null   datetime64[ns]\n",
      " 6   opted_in_to_mailing_list    12000 non-null  int64         \n",
      " 7   enabled_for_marketing_drip  12000 non-null  int64         \n",
      " 8   org_id                      12000 non-null  int64         \n",
      " 9   invited_by_user_id          6417 non-null   float64       \n",
      " 10  is_adopted                  12000 non-null  int64         \n",
      " 11  creation_dayofmonth         12000 non-null  int64         \n",
      " 12  creation_dayofyear          12000 non-null  int64         \n",
      " 13  org_num_users               12000 non-null  int64         \n",
      " 14  org_num_active_users        12000 non-null  int64         \n",
      " 15  org_pcnt_adopted            12000 non-null  float64       \n",
      " 16  invites_others              12000 non-null  int64         \n",
      "dtypes: datetime64[ns](2), float64(2), int64(10), object(3)\n",
      "memory usage: 1.9+ MB\n"
     ]
    }
   ],
   "source": [
    "users.info()"
   ]
  },
  {
   "cell_type": "markdown",
   "id": "19e12b6a",
   "metadata": {},
   "source": [
    "## Create target variable\n",
    "\n",
    "Per prompt, defining an \"adopted user\" as a user who has logged into the product on three separate days in at least one seven day period, identify which factors predict future user adoption.\n",
    "\n",
    "*In other words:* for a given user is their 7-day rolling sum ever 3 or greater?"
   ]
  },
  {
   "cell_type": "code",
   "execution_count": 281,
   "id": "e521227b",
   "metadata": {},
   "outputs": [],
   "source": [
    "def is_adopted (row):\n",
    "    \n",
    "    '''For given row in users df, determine if user has logged in 3+ times in any 7 day period based on engagement df'''\n",
    "    \n",
    "    #get user id for that row\n",
    "    user = row['object_id']\n",
    "    \n",
    "    #filter engagement df to that user\n",
    "    user_df = engagement.loc[engagement.user_id == user, :].drop(columns=['user_id'])\n",
    "    \n",
    "    #if table is empty, user not adopted\n",
    "    if len(user_df) == 0:\n",
    "        return 0\n",
    "    \n",
    "    else:\n",
    "\n",
    "        # resample filtered engagement df to 1 day increments\n",
    "        logins_interval = user_df.resample(\"1D\", on='time_stamp').count()\n",
    "\n",
    "        # get rolling sum (7 day period)\n",
    "        logins_interval_rolling = logins_interval.visited.rolling(window=7, min_periods=1).sum()\n",
    "\n",
    "        # find max value of rolling sum\n",
    "        week_max = logins_interval_rolling.max()\n",
    "\n",
    "        if week_max >= 3:\n",
    "            return 1\n",
    "        else:\n",
    "            return 0"
   ]
  },
  {
   "cell_type": "code",
   "execution_count": 282,
   "id": "219e4ce5",
   "metadata": {},
   "outputs": [],
   "source": [
    "# apply function above to generate target variable for each row\n",
    "users['is_adopted'] = users.apply((lambda row: is_adopted(row)), axis=1)"
   ]
  },
  {
   "cell_type": "code",
   "execution_count": 283,
   "id": "26193509",
   "metadata": {},
   "outputs": [
    {
     "data": {
      "text/plain": [
       "0"
      ]
     },
     "execution_count": 283,
     "metadata": {},
     "output_type": "execute_result"
    }
   ],
   "source": [
    "# confirming users with null last_session_creation_time never have is_adopted == 0\n",
    "users[users.last_session_creation_time.isnull()].is_adopted.sum()"
   ]
  },
  {
   "cell_type": "code",
   "execution_count": 308,
   "id": "c85385a1",
   "metadata": {},
   "outputs": [
    {
     "data": {
      "image/png": "[encoded data removed]",
      "text/plain": [
       "<Figure size 432x288 with 1 Axes>"
      ]
     },
     "metadata": {
      "needs_background": "light"
     },
     "output_type": "display_data"
    }
   ],
   "source": [
    "ax = sns.countplot(data=users, y='is_adopted')\n",
    "ax.set_title('Count of Users by Target Feature')\n",
    "plt.show()"
   ]
  },
  {
   "cell_type": "code",
   "execution_count": 316,
   "id": "d44a4d16",
   "metadata": {},
   "outputs": [
    {
     "name": "stdout",
     "output_type": "stream",
     "text": [
      "13.35% of users have \"adopted\" the service\n"
     ]
    }
   ],
   "source": [
    "target_count = users.groupby('is_adopted').count().object_id\n",
    "target_pcnt = round(target_count.loc[1] / target_count.sum() * 100,2)\n",
    "print(f'{target_pcnt}% of users have \"adopted\" the service')"
   ]
  },
  {
   "cell_type": "markdown",
   "id": "571627c0",
   "metadata": {},
   "source": [
    "### Feature Generation\n",
    "\n",
    "Since there aren't a lot of features to predict on, let's create a few:\n",
    " * Day of year and day of month account was created\n",
    " * Number of users in org user is part of\n",
    " * Number of active users in org user is part of\n",
    " * Proportion of users who are active in org user is part of\n",
    " * Binary flag if user has invited others"
   ]
  },
  {
   "cell_type": "code",
   "execution_count": 285,
   "id": "ca8f5eaa",
   "metadata": {},
   "outputs": [],
   "source": [
    "#Creation day of the year and month\n",
    "users['creation_dayofmonth'] = pd.DatetimeIndex(users.creation_time).day\n",
    "users['creation_dayofyear'] = pd.DatetimeIndex(users.creation_time).dayofyear"
   ]
  },
  {
   "cell_type": "code",
   "execution_count": 286,
   "id": "5677edb6",
   "metadata": {},
   "outputs": [],
   "source": [
    "#number of users by org\n",
    "users_by_org = pd.DataFrame(users.groupby('org_id').count().email).sort_values('email', ascending=False)\n",
    "users_by_org = users_by_org.rename(columns={'email':'org_num_users'})\n",
    "users = users.merge(users_by_org, on='org_id', how='left')"
   ]
  },
  {
   "cell_type": "code",
   "execution_count": 287,
   "id": "59415b55",
   "metadata": {},
   "outputs": [],
   "source": [
    "#number of adopted users by org\n",
    "adopted_users_by_org = pd.DataFrame(users.groupby('org_id').sum().is_adopted).sort_values('is_adopted', ascending=False)\n",
    "adopted_users_by_org = adopted_users_by_org.rename(columns={'is_adopted':'org_num_active_users'})\n",
    "users = users.merge(adopted_users_by_org, on='org_id', how='left')"
   ]
  },
  {
   "cell_type": "code",
   "execution_count": 288,
   "id": "8e4b37bf",
   "metadata": {},
   "outputs": [],
   "source": [
    "#proportion of users active for org member is part of\n",
    "users['org_pcnt_adopted'] = round(users.org_num_active_users / users.org_num_users * 100, 2)"
   ]
  },
  {
   "cell_type": "code",
   "execution_count": 289,
   "id": "94dc5594",
   "metadata": {},
   "outputs": [],
   "source": [
    "#is user inviting others?\n",
    "users_who_invite = users.invited_by_user_id.unique()\n",
    "users['invites_others'] = users.apply((lambda row: 1 if row['object_id'] in users_who_invite else 0), axis=1)"
   ]
  },
  {
   "cell_type": "code",
   "execution_count": 290,
   "id": "c63e8ac9",
   "metadata": {},
   "outputs": [
    {
     "name": "stdout",
     "output_type": "stream",
     "text": [
      "<class 'pandas.core.frame.DataFrame'>\n",
      "Int64Index: 12000 entries, 0 to 11999\n",
      "Data columns (total 17 columns):\n",
      " #   Column                      Non-Null Count  Dtype         \n",
      "---  ------                      --------------  -----         \n",
      " 0   object_id                   12000 non-null  int64         \n",
      " 1   creation_time               12000 non-null  datetime64[ns]\n",
      " 2   name                        12000 non-null  object        \n",
      " 3   email                       12000 non-null  object        \n",
      " 4   creation_source             12000 non-null  object        \n",
      " 5   last_session_creation_time  8823 non-null   datetime64[ns]\n",
      " 6   opted_in_to_mailing_list    12000 non-null  int64         \n",
      " 7   enabled_for_marketing_drip  12000 non-null  int64         \n",
      " 8   org_id                      12000 non-null  int64         \n",
      " 9   invited_by_user_id          6417 non-null   float64       \n",
      " 10  is_adopted                  12000 non-null  int64         \n",
      " 11  creation_dayofmonth         12000 non-null  int64         \n",
      " 12  creation_dayofyear          12000 non-null  int64         \n",
      " 13  org_num_users               12000 non-null  int64         \n",
      " 14  org_num_active_users        12000 non-null  int64         \n",
      " 15  org_pcnt_adopted            12000 non-null  float64       \n",
      " 16  invites_others              12000 non-null  int64         \n",
      "dtypes: datetime64[ns](2), float64(2), int64(10), object(3)\n",
      "memory usage: 1.6+ MB\n"
     ]
    }
   ],
   "source": [
    "users.info()"
   ]
  },
  {
   "cell_type": "markdown",
   "id": "50e4c6c1",
   "metadata": {},
   "source": [
    "## EDA of Continuous Variables\n",
    "\n",
    "Below I plotted box plots and bar chart of means comparing each continuous variable to the target variable. A histogram shows the distribution of the continuous variable. "
   ]
  },
  {
   "cell_type": "code",
   "execution_count": 292,
   "id": "a4c767f3",
   "metadata": {},
   "outputs": [
    {
     "name": "stderr",
     "output_type": "stream",
     "text": [
      "/Users/allankapoor/miniforge3/envs/tf_env_2/lib/python3.8/site-packages/pandas/core/indexing.py:1773: SettingWithCopyWarning: \n",
      "A value is trying to be set on a copy of a slice from a DataFrame.\n",
      "Try using .loc[row_indexer,col_indexer] = value instead\n",
      "\n",
      "See the caveats in the documentation: https://pandas.pydata.org/pandas-docs/stable/user_guide/indexing.html#returning-a-view-versus-a-copy\n",
      "  self._setitem_single_column(ilocs[0], value, pi)\n"
     ]
    },
    {
     "data": {
      "image/png": "[encoded data removed]",
      "text/plain": [
       "<Figure size 1008x216 with 3 Axes>"
      ]
     },
     "metadata": {
      "needs_background": "light"
     },
     "output_type": "display_data"
    },
    {
     "name": "stdout",
     "output_type": "stream",
     "text": [
      "Two-tailed T test\n",
      "t: -2.0602\n",
      "p: 0.0395\n"
     ]
    },
    {
     "data": {
      "image/png": "[encoded data removed]",
      "text/plain": [
       "<Figure size 1008x216 with 3 Axes>"
      ]
     },
     "metadata": {
      "needs_background": "light"
     },
     "output_type": "display_data"
    },
    {
     "name": "stdout",
     "output_type": "stream",
     "text": [
      "Two-tailed T test\n",
      "t: 4.135\n",
      "p: 0.0\n"
     ]
    },
    {
     "data": {
      "image/png": "[encoded data removed]",
      "text/plain": [
       "<Figure size 1008x216 with 3 Axes>"
      ]
     },
     "metadata": {
      "needs_background": "light"
     },
     "output_type": "display_data"
    },
    {
     "name": "stdout",
     "output_type": "stream",
     "text": [
      "Two-tailed T test\n",
      "t: -12.0972\n",
      "p: 0.0\n"
     ]
    },
    {
     "data": {
      "image/png": "[encoded data removed]",
      "text/plain": [
       "<Figure size 1008x216 with 3 Axes>"
      ]
     },
     "metadata": {
      "needs_background": "light"
     },
     "output_type": "display_data"
    },
    {
     "name": "stdout",
     "output_type": "stream",
     "text": [
      "Two-tailed T test\n",
      "t: 0.6549\n",
      "p: 0.5126\n"
     ]
    },
    {
     "data": {
      "image/png": "[encoded data removed]",
      "text/plain": [
       "<Figure size 1008x216 with 3 Axes>"
      ]
     },
     "metadata": {
      "needs_background": "light"
     },
     "output_type": "display_data"
    },
    {
     "name": "stdout",
     "output_type": "stream",
     "text": [
      "Two-tailed T test\n",
      "t: 20.5042\n",
      "p: 0.0\n"
     ]
    }
   ],
   "source": [
    "# list of continuous features + target variable\n",
    "cols= ['is_adopted','creation_dayofmonth', 'creation_dayofyear', 'org_num_users',\n",
    "       'org_num_active_users', 'org_pcnt_adopted']\n",
    "\n",
    "# create dataframe for holding statistical test results\n",
    "ttest_df = pd.DataFrame(data=cols[1:],columns=['Feature'])\n",
    "ttest_df.set_index('Feature', inplace=True)\n",
    "ttest_df['T-Score']=np.nan\n",
    "ttest_df['P Value']=np.nan\n",
    "\n",
    "# df with continous vars only\n",
    "df = users[cols]\n",
    "df.loc[:,'is_adopted'] = df.apply((lambda row: 'adopted' if row['is_adopted']==1 else 'not adopted'), axis=1)\n",
    "\n",
    "# style for boxplot outlier marks  \n",
    "flierprops = dict(markerfacecolor='0.75', markersize=5, linestyle='none', marker='.')\n",
    "\n",
    "# for each continuous feature: plot boxplot (by size), bar plot of means (by size), and histogram\n",
    "# two-tailed t test, print t and p\n",
    "for i, col in enumerate(df.columns[1:]):\n",
    "    \n",
    "    fig, (ax1, ax2, ax3) = plt.subplots(ncols=3, figsize=(14, 3))\n",
    "    \n",
    "    # boxplot \n",
    "    sns.boxplot(x=col, y='is_adopted', data=df, palette='Blues', flierprops=flierprops, ax=ax1, order=['adopted','not adopted'])\n",
    "\n",
    "    # bar plot of means\n",
    "    mean_table = df.groupby('is_adopted')[col].mean()\n",
    "    sns.barplot(y=mean_table.index, x=mean_table, palette='Blues', ax=ax2,  order=['adopted','not adopted'])\n",
    "    \n",
    "    # histogram\n",
    "    sns.histplot(x=col, data=df, ax=ax3, bins=50)\n",
    "    \n",
    "    # set titles, labels\n",
    "    ax1.set_title('Distribution: '+col)\n",
    "    ax1.set_ylabel('Adopted Status')\n",
    "    ax2.set_title('Mean: '+col)\n",
    "    ax2.set_ylabel('')\n",
    "    ax3.set_title('Histogram: '+col)\n",
    "    ax3.set_ylabel('')\n",
    "    \n",
    "    plt.show()\n",
    "    \n",
    "    #statistical test\n",
    "    active_users = df[df['is_adopted']=='adopted']\n",
    "    nonactive_users = df[df['is_adopted']=='not adopted']\n",
    "    t, p = stats.ttest_ind(active_users[col], nonactive_users[col], equal_var=False)\n",
    "    t = round(t,4)\n",
    "    p = round(p,4)\n",
    "    ttest_df.loc[col,'T-Score'] = t\n",
    "    ttest_df.loc[col,'P Value'] = p\n",
    "    \n",
    "    print('Two-tailed T test')\n",
    "    print(f't: {t}')\n",
    "    print(f'p: {p}')"
   ]
  },
  {
   "cell_type": "markdown",
   "id": "6ad0dae1",
   "metadata": {},
   "source": [
    "## Statistical Tests of Continuous Variables\n",
    "\n",
    "Two tailed T-tests for continuous variables vs target variable (adopted or not adopted). We see that all continuous variables appear to have a statistically significant relationship except for org_num_active_users (P<0.05)."
   ]
  },
  {
   "cell_type": "code",
   "execution_count": 293,
   "id": "175ffcc9",
   "metadata": {},
   "outputs": [
    {
     "data": {
      "text/html": [
       "<div>\n",
       "<style scoped>\n",
       "    .dataframe tbody tr th:only-of-type {\n",
       "        vertical-align: middle;\n",
       "    }\n",
       "\n",
       "    .dataframe tbody tr th {\n",
       "        vertical-align: top;\n",
       "    }\n",
       "\n",
       "    .dataframe thead th {\n",
       "        text-align: right;\n",
       "    }\n",
       "</style>\n",
       "<table border=\"1\" class=\"dataframe\">\n",
       "  <thead>\n",
       "    <tr style=\"text-align: right;\">\n",
       "      <th></th>\n",
       "      <th>T-Score</th>\n",
       "      <th>P Value</th>\n",
       "    </tr>\n",
       "    <tr>\n",
       "      <th>Feature</th>\n",
       "      <th></th>\n",
       "      <th></th>\n",
       "    </tr>\n",
       "  </thead>\n",
       "  <tbody>\n",
       "    <tr>\n",
       "      <th>creation_dayofmonth</th>\n",
       "      <td>-2.0602</td>\n",
       "      <td>0.0395</td>\n",
       "    </tr>\n",
       "    <tr>\n",
       "      <th>creation_dayofyear</th>\n",
       "      <td>4.1350</td>\n",
       "      <td>0.0000</td>\n",
       "    </tr>\n",
       "    <tr>\n",
       "      <th>org_num_users</th>\n",
       "      <td>-12.0972</td>\n",
       "      <td>0.0000</td>\n",
       "    </tr>\n",
       "    <tr>\n",
       "      <th>org_num_active_users</th>\n",
       "      <td>0.6549</td>\n",
       "      <td>0.5126</td>\n",
       "    </tr>\n",
       "    <tr>\n",
       "      <th>org_pcnt_adopted</th>\n",
       "      <td>20.5042</td>\n",
       "      <td>0.0000</td>\n",
       "    </tr>\n",
       "  </tbody>\n",
       "</table>\n",
       "</div>"
      ],
      "text/plain": [
       "                      T-Score  P Value\n",
       "Feature                               \n",
       "creation_dayofmonth   -2.0602   0.0395\n",
       "creation_dayofyear     4.1350   0.0000\n",
       "org_num_users        -12.0972   0.0000\n",
       "org_num_active_users   0.6549   0.5126\n",
       "org_pcnt_adopted      20.5042   0.0000"
      ]
     },
     "execution_count": 293,
     "metadata": {},
     "output_type": "execute_result"
    }
   ],
   "source": [
    "ttest_df"
   ]
  },
  {
   "cell_type": "markdown",
   "id": "139d3058",
   "metadata": {},
   "source": [
    "## Categorical features"
   ]
  },
  {
   "cell_type": "code",
   "execution_count": 361,
   "id": "b7b4c1a5",
   "metadata": {},
   "outputs": [
    {
     "data": {
      "image/png": "[encoded data removed]",
      "text/plain": [
       "<Figure size 432x288 with 1 Axes>"
      ]
     },
     "metadata": {
      "needs_background": "light"
     },
     "output_type": "display_data"
    },
    {
     "data": {
      "image/png": "[encoded data removed]",
      "text/plain": [
       "<Figure size 432x288 with 1 Axes>"
      ]
     },
     "metadata": {
      "needs_background": "light"
     },
     "output_type": "display_data"
    },
    {
     "data": {
      "image/png": "[encoded data removed]",
      "text/plain": [
       "<Figure size 432x288 with 1 Axes>"
      ]
     },
     "metadata": {
      "needs_background": "light"
     },
     "output_type": "display_data"
    },
    {
     "data": {
      "image/png": "[encoded data removed]",
      "text/plain": [
       "<Figure size 432x288 with 1 Axes>"
      ]
     },
     "metadata": {
      "needs_background": "light"
     },
     "output_type": "display_data"
    }
   ],
   "source": [
    "cat_feats = ['is_adopted','opted_in_to_mailing_list', 'enabled_for_marketing_drip','invites_others','creation_source']\n",
    "\n",
    "users_cat = users.loc[:,cat_feats]\n",
    "\n",
    "\n",
    "\n",
    "for feat in cat_feats[1:]:\n",
    "    \n",
    "    crosstab = pd.crosstab(users_cat['is_adopted'], users_cat[feat]).T\n",
    "    crosstab['Pcnt_Active'] = round(crosstab[1]/(crosstab[1]+crosstab[0])*100,2)\n",
    "    crosstab.sort_values('Pcnt_Active', ascending=False, inplace=True)\n",
    "    sns.barplot(x=crosstab.index, y=crosstab.Pcnt_Active)\n",
    "    locs, labels = plt.xticks()\n",
    "    plt.ylabel('Percent')\n",
    "    plt.xlabel(feat)\n",
    "    plt.title(f'Percent of Users that are Active by {feat}')\n",
    "    plt.setp(labels, rotation=90)\n",
    "    plt.show()"
   ]
  },
  {
   "cell_type": "code",
   "execution_count": 332,
   "id": "12ad3d72",
   "metadata": {},
   "outputs": [],
   "source": [
    "from sklearn.feature_selection import chi2\n",
    "chi2, pvalues = chi2(users[bin_cat], users['is_adopted'])\n",
    "chi2 = chi2.round(3)\n",
    "pvalues = pvalues.round(3)"
   ]
  },
  {
   "cell_type": "code",
   "execution_count": 333,
   "id": "b87abf4c",
   "metadata": {},
   "outputs": [
    {
     "data": {
      "text/html": [
       "<div>\n",
       "<style scoped>\n",
       "    .dataframe tbody tr th:only-of-type {\n",
       "        vertical-align: middle;\n",
       "    }\n",
       "\n",
       "    .dataframe tbody tr th {\n",
       "        vertical-align: top;\n",
       "    }\n",
       "\n",
       "    .dataframe thead th {\n",
       "        text-align: right;\n",
       "    }\n",
       "</style>\n",
       "<table border=\"1\" class=\"dataframe\">\n",
       "  <thead>\n",
       "    <tr style=\"text-align: right;\">\n",
       "      <th></th>\n",
       "      <th>opted_in_to_mailing_list</th>\n",
       "      <th>enabled_for_marketing_drip</th>\n",
       "      <th>invites_others</th>\n",
       "    </tr>\n",
       "  </thead>\n",
       "  <tbody>\n",
       "    <tr>\n",
       "      <th>chi2</th>\n",
       "      <td>0.591</td>\n",
       "      <td>0.221</td>\n",
       "      <td>24.766</td>\n",
       "    </tr>\n",
       "    <tr>\n",
       "      <th>pvalues</th>\n",
       "      <td>0.442</td>\n",
       "      <td>0.638</td>\n",
       "      <td>0.000</td>\n",
       "    </tr>\n",
       "  </tbody>\n",
       "</table>\n",
       "</div>"
      ],
      "text/plain": [
       "         opted_in_to_mailing_list  enabled_for_marketing_drip  invites_others\n",
       "chi2                        0.591                       0.221          24.766\n",
       "pvalues                     0.442                       0.638           0.000"
      ]
     },
     "execution_count": 333,
     "metadata": {},
     "output_type": "execute_result"
    }
   ],
   "source": [
    "pd.DataFrame([chi2, pvalues], columns=bin_cat, index=['chi2','pvalues'])"
   ]
  },
  {
   "cell_type": "markdown",
   "id": "29ee8c4d",
   "metadata": {},
   "source": [
    "Opted in to mailing list is \n",
    "\n",
    "enabled_for_marketing_drip is not significant\n",
    "\n",
    "Invites others appears to have a strong relationship (high chi2 value) that is statistically significiant (p<0.001)"
   ]
  }
 ],
 "metadata": {
  "kernelspec": {
   "display_name": "tf_env_2",
   "language": "python",
   "name": "tf_env_2"
  },
  "language_info": {
   "codemirror_mode": {
    "name": "ipython",
    "version": 3
   },
   "file_extension": ".py",
   "mimetype": "text/x-python",
   "name": "python",
   "nbconvert_exporter": "python",
   "pygments_lexer": "ipython3",
   "version": "3.8.12"
  }
 },
 "nbformat": 4,
 "nbformat_minor": 5
}
